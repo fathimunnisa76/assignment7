{
 "cells": [
  {
   "cell_type": "code",
   "execution_count": 11,
   "id": "fc8fe192",
   "metadata": {},
   "outputs": [],
   "source": [
    "def myfunction():\n",
    "    salary=15000\n",
    "    if (salary<10000):\n",
    "        salary=salary*10\n",
    "        print(salary)\n",
    "    elif (salary>=10000) and (salary<=30000):\n",
    "        salary=salary*20\n",
    "        print(salary)\n",
    "    else:\n",
    "        salary=salary*30\n",
    "        print(salary)"
   ]
  },
  {
   "cell_type": "code",
   "execution_count": 12,
   "id": "7266b0ab",
   "metadata": {},
   "outputs": [
    {
     "name": "stdout",
     "output_type": "stream",
     "text": [
      "300000\n"
     ]
    }
   ],
   "source": [
    "myfunction()"
   ]
  },
  {
   "cell_type": "code",
   "execution_count": 13,
   "id": "3e6fbec0",
   "metadata": {},
   "outputs": [],
   "source": [
    "def offer():\n",
    "    amount=int(input(\"enter amount to be purchased: \"))\n",
    "    if (amount<20000):\n",
    "        print(\"discount is 20%\")\n",
    "    elif (amount>=20000) and (amount<=40000):\n",
    "        print(\"discount is 30%\")\n",
    "    else:\n",
    "        print(\"discount is 40%\")"
   ]
  },
  {
   "cell_type": "code",
   "execution_count": 14,
   "id": "51585bd6",
   "metadata": {},
   "outputs": [
    {
     "name": "stdout",
     "output_type": "stream",
     "text": [
      "enter amount to be purchased: 10000\n",
      "discount is 20%\n"
     ]
    }
   ],
   "source": [
    "offer()"
   ]
  },
  {
   "cell_type": "code",
   "execution_count": 15,
   "id": "56b6a23a",
   "metadata": {},
   "outputs": [],
   "source": [
    "def amazon_offer(product_type):\n",
    "    if (product_type==\"electronic\"):\n",
    "        print(\"20% discount\")\n",
    "    elif (product_type==\"cloth\"):\n",
    "        print(\"30% discount\")\n",
    "    elif (product_type==\"footwear\"):\n",
    "        print(\"40% discount\")"
   ]
  },
  {
   "cell_type": "code",
   "execution_count": 16,
   "id": "5760ad04",
   "metadata": {},
   "outputs": [
    {
     "name": "stdout",
     "output_type": "stream",
     "text": [
      "40% discount\n"
     ]
    }
   ],
   "source": [
    "amazon_offer(\"footwear\")"
   ]
  },
  {
   "cell_type": "code",
   "execution_count": null,
   "id": "58f6ebde",
   "metadata": {},
   "outputs": [],
   "source": []
  },
  {
   "cell_type": "code",
   "execution_count": null,
   "id": "a16e004d",
   "metadata": {},
   "outputs": [],
   "source": []
  },
  {
   "cell_type": "code",
   "execution_count": null,
   "id": "40fffe4a",
   "metadata": {},
   "outputs": [],
   "source": []
  }
 ],
 "metadata": {
  "kernelspec": {
   "display_name": "Python 3 (ipykernel)",
   "language": "python",
   "name": "python3"
  },
  "language_info": {
   "codemirror_mode": {
    "name": "ipython",
    "version": 3
   },
   "file_extension": ".py",
   "mimetype": "text/x-python",
   "name": "python",
   "nbconvert_exporter": "python",
   "pygments_lexer": "ipython3",
   "version": "3.10.9"
  }
 },
 "nbformat": 4,
 "nbformat_minor": 5
}
